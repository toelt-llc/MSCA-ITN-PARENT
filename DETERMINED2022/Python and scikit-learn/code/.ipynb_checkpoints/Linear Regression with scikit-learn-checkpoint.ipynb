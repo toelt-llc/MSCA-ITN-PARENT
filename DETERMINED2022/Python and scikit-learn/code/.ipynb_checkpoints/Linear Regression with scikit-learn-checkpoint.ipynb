{
 "cells": [
  {
   "cell_type": "markdown",
   "id": "9ce8548f-1b46-444e-95af-870880da2371",
   "metadata": {},
   "source": [
    "# Linear Regression with scikit-learn\n",
    "\n",
    "Adapted from the original documentation.\n",
    "\n",
    "Author: Umberto Michelucci, TOELT LLC"
   ]
  },
  {
   "cell_type": "code",
   "execution_count": 2,
   "id": "08b112be-e82b-436e-8e37-f9e2b7e9a494",
   "metadata": {},
   "outputs": [],
   "source": [
    "import matplotlib.pyplot as plt\n",
    "import numpy as np\n",
    "from sklearn import datasets, linear_model\n",
    "from sklearn.metrics import mean_squared_error, r2_score"
   ]
  },
  {
   "cell_type": "markdown",
   "id": "70f2aa43-56d3-4b0f-a508-4a6b7693f280",
   "metadata": {},
   "source": [
    "## Load the dataset (ingest)"
   ]
  },
  {
   "cell_type": "code",
   "execution_count": 3,
   "id": "15d4384a-5b36-4f00-a95e-120a81cef92b",
   "metadata": {},
   "outputs": [],
   "source": [
    "# Load the diabetes dataset\n",
    "diabetes_X, diabetes_y = datasets.load_diabetes(return_X_y=True)"
   ]
  },
  {
   "cell_type": "markdown",
   "id": "20efd7de-40bc-4ab4-99ee-66ffce237147",
   "metadata": {},
   "source": [
    "## Select the features (data preparation)"
   ]
  },
  {
   "cell_type": "code",
   "execution_count": 4,
   "id": "8e9e65be-843c-4a50-93b0-7e8b5bdf8253",
   "metadata": {},
   "outputs": [],
   "source": [
    "# Use only one feature\n",
    "diabetes_X = diabetes_X[:, np.newaxis, 2]"
   ]
  },
  {
   "cell_type": "markdown",
   "id": "87625cc3-44bd-4fb9-a06b-82795a9623d4",
   "metadata": {},
   "source": [
    "## Hold-out approach (see Lecture on model validation)"
   ]
  },
  {
   "cell_type": "code",
   "execution_count": 5,
   "id": "b4d54a18-078e-4f33-b5ad-6ca56e8cd07f",
   "metadata": {},
   "outputs": [],
   "source": [
    "# Split the data into training/testing sets\n",
    "diabetes_X_train = diabetes_X[:-20]\n",
    "diabetes_X_test = diabetes_X[-20:]"
   ]
  },
  {
   "cell_type": "code",
   "execution_count": 6,
   "id": "03b7a4fc-a265-4fd2-8e4d-cf82454d926e",
   "metadata": {},
   "outputs": [],
   "source": [
    "# Split the targets into training/testing sets\n",
    "diabetes_y_train = diabetes_y[:-20]\n",
    "diabetes_y_test = diabetes_y[-20:]"
   ]
  },
  {
   "cell_type": "markdown",
   "id": "833a82ee-6dcc-4e07-ac19-f567a918007a",
   "metadata": {},
   "source": [
    "## Train the model"
   ]
  },
  {
   "cell_type": "code",
   "execution_count": 7,
   "id": "2611ed23-fa0e-49f9-bbca-bfd268d8570f",
   "metadata": {},
   "outputs": [
    {
     "data": {
      "text/plain": [
       "LinearRegression()"
      ]
     },
     "execution_count": 7,
     "metadata": {},
     "output_type": "execute_result"
    }
   ],
   "source": [
    "# Create linear regression object\n",
    "regr = linear_model.LinearRegression()\n",
    "\n",
    "# Train the model using the training sets\n",
    "regr.fit(diabetes_X_train, diabetes_y_train)"
   ]
  },
  {
   "cell_type": "markdown",
   "id": "16023a8c-2a86-4705-a33e-659aa5fc7670",
   "metadata": {},
   "source": [
    "## Make Predictions and print the results"
   ]
  },
  {
   "cell_type": "code",
   "execution_count": 8,
   "id": "81f0437c-1478-47e3-82c8-1a31b57c3ba5",
   "metadata": {},
   "outputs": [
    {
     "name": "stdout",
     "output_type": "stream",
     "text": [
      "Coefficients: \n",
      " [938.23786125]\n",
      "Mean squared error: 2548.07\n",
      "Coefficient of determination: 0.47\n"
     ]
    }
   ],
   "source": [
    "# Make predictions using the testing set\n",
    "diabetes_y_pred = regr.predict(diabetes_X_test)\n",
    "\n",
    "# The coefficients\n",
    "print(\"Coefficients: \\n\", regr.coef_)\n",
    "# The mean squared error\n",
    "print(\"Mean squared error: %.2f\" % mean_squared_error(diabetes_y_test, diabetes_y_pred))\n",
    "# The coefficient of determination: 1 is perfect prediction\n",
    "print(\"Coefficient of determination: %.2f\" % r2_score(diabetes_y_test, diabetes_y_pred))"
   ]
  },
  {
   "cell_type": "markdown",
   "id": "6a919d49-7e35-419b-bee2-23f5aef49a34",
   "metadata": {},
   "source": [
    "## Visualise the results"
   ]
  },
  {
   "cell_type": "code",
   "execution_count": 9,
   "id": "edfd7847-ce31-41ff-86e2-3d9723c39d6b",
   "metadata": {},
   "outputs": [
    {
     "data": {
      "image/png": "[encoded data removed]",
      "text/plain": [
       "<Figure size 432x288 with 1 Axes>"
      ]
     },
     "metadata": {},
     "output_type": "display_data"
    }
   ],
   "source": [
    "# Plot outputs\n",
    "plt.scatter(diabetes_X_test, diabetes_y_test, color=\"black\")\n",
    "plt.plot(diabetes_X_test, diabetes_y_pred, color=\"blue\", linewidth=3)\n",
    "\n",
    "plt.xticks(())\n",
    "plt.yticks(())\n",
    "\n",
    "plt.show()"
   ]
  }
 ],
 "metadata": {
  "kernelspec": {
   "display_name": "Python 3 (ipykernel)",
   "language": "python",
   "name": "python3"
  },
  "language_info": {
   "codemirror_mode": {
    "name": "ipython",
    "version": 3
   },
   "file_extension": ".py",
   "mimetype": "text/x-python",
   "name": "python",
   "nbconvert_exporter": "python",
   "pygments_lexer": "ipython3",
   "version": "3.7.2"
  }
 },
 "nbformat": 4,
 "nbformat_minor": 5
}
