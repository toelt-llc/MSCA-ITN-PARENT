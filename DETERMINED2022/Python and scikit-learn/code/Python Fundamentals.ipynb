{
 "cells": [
  {
   "cell_type": "markdown",
   "id": "336b8ab2-00c5-427f-bcca-4fdb5c10fb40",
   "metadata": {},
   "source": [
    "# Python Fundamentals"
   ]
  },
  {
   "cell_type": "code",
   "execution_count": 11,
   "id": "ddab7e3e-d548-4a63-a0d2-7fc5b5c8248d",
   "metadata": {},
   "outputs": [],
   "source": [
    "import random \n",
    "import numpy as np"
   ]
  },
  {
   "cell_type": "markdown",
   "id": "1bffc9f7-5d4d-4f75-b376-987e03405bcc",
   "metadata": {},
   "source": [
    "## Variables"
   ]
  },
  {
   "cell_type": "code",
   "execution_count": 17,
   "id": "ecedd0df-d408-4ee4-a179-36928cf48003",
   "metadata": {},
   "outputs": [
    {
     "data": {
      "text/plain": [
       "5.0"
      ]
     },
     "execution_count": 17,
     "metadata": {},
     "output_type": "execute_result"
    }
   ],
   "source": [
    "a = 2.0\n",
    "b = 3.0\n",
    "\n",
    "a+b"
   ]
  },
  {
   "cell_type": "markdown",
   "id": "b8c59f70-7355-4152-952b-bcfdd780dc98",
   "metadata": {},
   "source": [
    "## Lists"
   ]
  },
  {
   "cell_type": "code",
   "execution_count": 1,
   "id": "f46d85af-c504-4348-8abf-5e3754d0e65c",
   "metadata": {},
   "outputs": [],
   "source": [
    "a = [1, 2, 3, 4]\n",
    "b = [5, 6, 7, 8]"
   ]
  },
  {
   "cell_type": "code",
   "execution_count": 2,
   "id": "77dac550-73d9-40ba-b871-fed3d3d43b33",
   "metadata": {},
   "outputs": [
    {
     "data": {
      "text/plain": [
       "2"
      ]
     },
     "execution_count": 2,
     "metadata": {},
     "output_type": "execute_result"
    }
   ],
   "source": [
    "a[1]"
   ]
  },
  {
   "cell_type": "markdown",
   "id": "aa65ad01-6c4e-46d6-a63e-3ff06048e81c",
   "metadata": {},
   "source": [
    "Note indexes start from 0 in Python"
   ]
  },
  {
   "cell_type": "markdown",
   "id": "eb21a155-f152-4cd9-85c7-df192fa26cfd",
   "metadata": {},
   "source": [
    "Lists does not behave like mathematical objects, and that makes working with them for scientific computing very difficult. This is one of the main reasons (between others) why you will need to use ```numpy```. ```numpy``` define arrays so that they behave like mathematical objects."
   ]
  },
  {
   "cell_type": "code",
   "execution_count": 3,
   "id": "427d13da-145e-4d28-b7e5-91246b38e619",
   "metadata": {},
   "outputs": [
    {
     "data": {
      "text/plain": [
       "[1, 2, 3, 4, 5, 6, 7, 8]"
      ]
     },
     "execution_count": 3,
     "metadata": {},
     "output_type": "execute_result"
    }
   ],
   "source": [
    "a+b"
   ]
  },
  {
   "cell_type": "code",
   "execution_count": 4,
   "id": "6a193506-87b4-4e00-ad8e-ff2006dd85a2",
   "metadata": {},
   "outputs": [
    {
     "ename": "TypeError",
     "evalue": "can't multiply sequence by non-int of type 'list'",
     "output_type": "error",
     "traceback": [
      "\u001b[0;31m---------------------------------------------------------------------------\u001b[0m",
      "\u001b[0;31mTypeError\u001b[0m                                 Traceback (most recent call last)",
      "\u001b[0;32m/var/folders/xl/mhd952bn1w9cdpylw329ccq40000gn/T/ipykernel_28981/3507077656.py\u001b[0m in \u001b[0;36m<module>\u001b[0;34m\u001b[0m\n\u001b[0;32m----> 1\u001b[0;31m \u001b[0ma\u001b[0m\u001b[0;34m*\u001b[0m\u001b[0mb\u001b[0m\u001b[0;34m\u001b[0m\u001b[0;34m\u001b[0m\u001b[0m\n\u001b[0m",
      "\u001b[0;31mTypeError\u001b[0m: can't multiply sequence by non-int of type 'list'"
     ]
    }
   ],
   "source": [
    "a*b"
   ]
  },
  {
   "cell_type": "code",
   "execution_count": 10,
   "id": "7334fa1a-df41-47fe-8c39-3c8dcfdc8622",
   "metadata": {},
   "outputs": [
    {
     "ename": "TypeError",
     "evalue": "unsupported operand type(s) for /: 'list' and 'int'",
     "output_type": "error",
     "traceback": [
      "\u001b[0;31m---------------------------------------------------------------------------\u001b[0m",
      "\u001b[0;31mTypeError\u001b[0m                                 Traceback (most recent call last)",
      "\u001b[0;32m/var/folders/xl/mhd952bn1w9cdpylw329ccq40000gn/T/ipykernel_28981/2946844718.py\u001b[0m in \u001b[0;36m<module>\u001b[0;34m\u001b[0m\n\u001b[0;32m----> 1\u001b[0;31m \u001b[0ma\u001b[0m\u001b[0;34m/\u001b[0m\u001b[0;36m2\u001b[0m\u001b[0;34m\u001b[0m\u001b[0;34m\u001b[0m\u001b[0m\n\u001b[0m",
      "\u001b[0;31mTypeError\u001b[0m: unsupported operand type(s) for /: 'list' and 'int'"
     ]
    }
   ],
   "source": [
    "a/2"
   ]
  },
  {
   "cell_type": "markdown",
   "id": "75162d59-f308-48d4-9e46-c79c021cb0af",
   "metadata": {},
   "source": [
    "Let's now try with numpy..."
   ]
  },
  {
   "cell_type": "code",
   "execution_count": 15,
   "id": "8e89bf28-1830-4264-aaa2-f07638ce2162",
   "metadata": {},
   "outputs": [
    {
     "name": "stdout",
     "output_type": "stream",
     "text": [
      "[1 2 3 4]\n",
      "[5 6 7 8]\n"
     ]
    }
   ],
   "source": [
    "# We convert the list into numpy arrays\n",
    "anp = np.array(a)\n",
    "bnp = np.array(b)\n",
    "\n",
    "print(anp)\n",
    "print(bnp)"
   ]
  },
  {
   "cell_type": "code",
   "execution_count": 13,
   "id": "82876d6b-bc9e-4f84-b180-9b51e5e73356",
   "metadata": {},
   "outputs": [
    {
     "data": {
      "text/plain": [
       "array([ 6,  8, 10, 12])"
      ]
     },
     "execution_count": 13,
     "metadata": {},
     "output_type": "execute_result"
    }
   ],
   "source": [
    "anp+bnp"
   ]
  },
  {
   "cell_type": "code",
   "execution_count": 14,
   "id": "99ed91bd-34b0-48ba-b231-f568003c4c58",
   "metadata": {},
   "outputs": [
    {
     "data": {
      "text/plain": [
       "array([ 5, 12, 21, 32])"
      ]
     },
     "execution_count": 14,
     "metadata": {},
     "output_type": "execute_result"
    }
   ],
   "source": [
    "anp*bnp"
   ]
  },
  {
   "cell_type": "code",
   "execution_count": 16,
   "id": "b41b5f47-40f8-42de-afc8-6b87a0551a78",
   "metadata": {},
   "outputs": [
    {
     "data": {
      "text/plain": [
       "array([0.5, 1. , 1.5, 2. ])"
      ]
     },
     "execution_count": 16,
     "metadata": {},
     "output_type": "execute_result"
    }
   ],
   "source": [
    "anp / 2.0"
   ]
  },
  {
   "cell_type": "markdown",
   "id": "eeb6602e-3920-4109-b1f6-18c570a34c1e",
   "metadata": {},
   "source": [
    "## Example of loop with plain Python"
   ]
  },
  {
   "cell_type": "code",
   "execution_count": 21,
   "id": "d0a93d13-e104-4310-9af1-43903f6ff4cb",
   "metadata": {},
   "outputs": [],
   "source": [
    "lst1 = random.sample(range(1, 10**8), 10**7) \n",
    "lst2 = random.sample(range(1, 10**8), 10**7) "
   ]
  },
  {
   "cell_type": "code",
   "execution_count": 22,
   "id": "bd81ad54-8d0f-46bb-83dc-e6ed04e7d9ac",
   "metadata": {},
   "outputs": [
    {
     "name": "stdout",
     "output_type": "stream",
     "text": [
      "CPU times: user 1.94 s, sys: 17.7 ms, total: 1.96 s\n",
      "Wall time: 1.96 s\n"
     ]
    }
   ],
   "source": [
    "%%time\n",
    "ab = [lst1[i]*lst2[i] for i in range(len(lst1))] "
   ]
  },
  {
   "cell_type": "markdown",
   "id": "5762fe2a-772e-4c99-9893-05ac4129cbbb",
   "metadata": {},
   "source": [
    "## Example of loop with numpy"
   ]
  },
  {
   "cell_type": "code",
   "execution_count": 8,
   "id": "366d627f-baf4-4e81-aad8-71600ffecf9d",
   "metadata": {},
   "outputs": [],
   "source": [
    "lst1 = random.sample(range(1, 10**8), 10**7) \n",
    "lst2 = random.sample(range(1, 10**8), 10**7) \n",
    "list1_np = np.array(lst1) \n",
    "list2_np = np.array(lst2) \n"
   ]
  },
  {
   "cell_type": "code",
   "execution_count": 9,
   "id": "55e35f4d-e8ec-48dd-8057-87d4d150d9ef",
   "metadata": {},
   "outputs": [
    {
     "name": "stdout",
     "output_type": "stream",
     "text": [
      "19.1 ms ± 524 µs per loop (mean ± std. dev. of 7 runs, 10 loops each)\n"
     ]
    }
   ],
   "source": [
    "%%time\n",
    "out2 = np.multiply(list1_np, list2_np) "
   ]
  }
 ],
 "metadata": {
  "kernelspec": {
   "display_name": "Python 3 (ipykernel)",
   "language": "python",
   "name": "python3"
  },
  "language_info": {
   "codemirror_mode": {
    "name": "ipython",
    "version": 3
   },
   "file_extension": ".py",
   "mimetype": "text/x-python",
   "name": "python",
   "nbconvert_exporter": "python",
   "pygments_lexer": "ipython3",
   "version": "3.7.2"
  }
 },
 "nbformat": 4,
 "nbformat_minor": 5
}
